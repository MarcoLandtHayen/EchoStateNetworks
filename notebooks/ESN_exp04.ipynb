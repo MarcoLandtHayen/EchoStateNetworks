{
 "cells": [
  {
   "cell_type": "markdown",
   "id": "069960e5",
   "metadata": {},
   "source": [
    "### Switch from base ESN to DeepESN\n",
    "\n",
    "**Outline**\n",
    "\n",
    "* Since we are now able to use **additive decomposition** of timeseries into linear trend, seasonality and residual noise, as in [Kim and King, 2020](https://link.springer.com/article/10.1007/s00521-020-04948-x) paper \"Time series prediction using Deep Echo State Networks\", we are ready to switch from base ESN to Deep ESN models.\n",
    "* Therefore we need to set up an **implementation of ESN layers**, based on [tensorflow implementation](https://www.tensorflow.org/addons/api_docs/python/tfa/layers/ESN), able to extend to multiple ESN layer networks (= **DeepESN**).\n",
    "\n",
    "**Sources**\n",
    "\n",
    "* Additionally could have a look at [customized implementation](https://github.com/francesco-mannella/Echo-State-Networks) by Francesco Mannella."
   ]
  },
  {
   "cell_type": "markdown",
   "id": "82a37482",
   "metadata": {},
   "source": [
    "#### Technical setup and data preparation"
   ]
  },
  {
   "cell_type": "code",
   "execution_count": 24,
   "id": "0453203f",
   "metadata": {},
   "outputs": [],
   "source": [
    "import numpy as np\n",
    "import matplotlib.pyplot as plt\n",
    "from statsmodels.tsa.stattools import adfuller\n",
    "from pandas import read_csv"
   ]
  },
  {
   "cell_type": "code",
   "execution_count": 4,
   "id": "a0568ca3",
   "metadata": {},
   "outputs": [],
   "source": [
    "# Read dataset SP500_1999_2019.txt, absolute values:\n",
    "SP500_abs = open(\"../data/SP500_1999_2019.csv\").read().split()\n",
    "SP500_abs = np.array(SP500_abs).astype('float64')"
   ]
  },
  {
   "cell_type": "code",
   "execution_count": null,
   "id": "309f852f",
   "metadata": {},
   "outputs": [],
   "source": []
  }
 ],
 "metadata": {
  "kernelspec": {
   "display_name": "Python 3 (ipykernel)",
   "language": "python",
   "name": "python3"
  },
  "language_info": {
   "codemirror_mode": {
    "name": "ipython",
    "version": 3
   },
   "file_extension": ".py",
   "mimetype": "text/x-python",
   "name": "python",
   "nbconvert_exporter": "python",
   "pygments_lexer": "ipython3",
   "version": "3.9.9"
  }
 },
 "nbformat": 4,
 "nbformat_minor": 5
}
